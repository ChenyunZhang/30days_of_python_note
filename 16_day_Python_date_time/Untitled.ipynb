{
 "cells": [
  {
   "cell_type": "code",
   "execution_count": 1,
   "metadata": {},
   "outputs": [
    {
     "name": "stdout",
     "output_type": "stream",
     "text": [
      "Enter the length of the side of the Squre: 3\n"
     ]
    }
   ],
   "source": [
    "import turtle\n",
    "\n",
    "t = turtle.Turtle()\n",
    "s = int(input(\"Enter the length of the side of the Squre: \"))\n",
    " \n",
    "# drawing first side\n",
    "t.forward(s) # Forward turtle by s units\n",
    "t.left(90) # Turn turtle by 90 degree\n",
    " \n",
    "# drawing second side\n",
    "t.forward(s) # Forward turtle by s units\n",
    "t.left(90) # Turn turtle by 90 degree\n",
    " \n",
    "# drawing third side\n",
    "t.forward(s) # Forward turtle by s units\n",
    "t.left(90) # Turn turtle by 90 degree\n",
    " \n",
    "# drawing fourth side\n",
    "t.forward(s) # Forward turtle by s units\n",
    "t.left(90) # Turn turtle by 90 degree"
   ]
  },
  {
   "cell_type": "code",
   "execution_count": null,
   "metadata": {},
   "outputs": [],
   "source": []
  }
 ],
 "metadata": {
  "kernelspec": {
   "display_name": "Python 3",
   "language": "python",
   "name": "python3"
  },
  "language_info": {
   "codemirror_mode": {
    "name": "ipython",
    "version": 3
   },
   "file_extension": ".py",
   "mimetype": "text/x-python",
   "name": "python",
   "nbconvert_exporter": "python",
   "pygments_lexer": "ipython3",
   "version": "3.7.1"
  }
 },
 "nbformat": 4,
 "nbformat_minor": 2
}
